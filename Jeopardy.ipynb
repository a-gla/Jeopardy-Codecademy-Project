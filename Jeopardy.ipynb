{
 "cells": [
  {
   "cell_type": "code",
   "execution_count": 1,
   "id": "5e41288a",
   "metadata": {},
   "outputs": [],
   "source": [
    "import numpy as np\n",
    "import pandas as pd\n",
    "import re"
   ]
  },
  {
   "cell_type": "code",
   "execution_count": 2,
   "id": "6f0f0ee0",
   "metadata": {},
   "outputs": [],
   "source": [
    "jeopardy = pd.read_csv('jeopardy.csv')"
   ]
  },
  {
   "cell_type": "code",
   "execution_count": 3,
   "id": "a2f13a55",
   "metadata": {},
   "outputs": [],
   "source": [
    "# renaming columns\n",
    "jeopardy.rename(columns={\n",
    "    'Show Number': 'show_number',\n",
    "    ' Air Date': 'air_date',\n",
    "    ' Round': 'round',\n",
    "    ' Category': 'category',\n",
    "    ' Value': 'value',\n",
    "    ' Question': 'question',\n",
    "    ' Answer': 'answer'\n",
    "}, inplace=True)"
   ]
  },
  {
   "cell_type": "code",
   "execution_count": 4,
   "id": "854d4f25",
   "metadata": {},
   "outputs": [],
   "source": [
    "# function filtering the dataset for questions that contain all words in a list\n",
    "def filter_dataset(lst, column, dataset):\n",
    "    str1 = r\"\"\n",
    "    for i in lst:\n",
    "        str1 += f\"(?=.*{i})\"\n",
    "    filtered = dataset[column.str.contains(str1, flags=re.IGNORECASE)]\n",
    "    return filtered"
   ]
  },
  {
   "cell_type": "code",
   "execution_count": null,
   "id": "984dcf37",
   "metadata": {},
   "outputs": [],
   "source": [
    "# testing the function\n",
    "my_list = ['King', 'England']\n",
    "filtered = filter_dataset(my_list,jeopardy.question,jeopardy)\n",
    "print(filtered.question)"
   ]
  },
  {
   "cell_type": "code",
   "execution_count": null,
   "id": "3f61a12d",
   "metadata": {},
   "outputs": [],
   "source": [
    "# changing 'value' column to float\n",
    "jeopardy['value'] = jeopardy['value'].replace('None', 0)\n",
    "jeopardy['value'] = jeopardy['value'].replace(\"[\\$,]\",\"\", regex=True)\n",
    "jeopardy['value'] = jeopardy['value'].astype(float)"
   ]
  },
  {
   "cell_type": "code",
   "execution_count": null,
   "id": "d5432082",
   "metadata": {},
   "outputs": [],
   "source": [
    "# function that returns the count of unique answers to all of the questions in a dataset\n",
    "def count_unique(column):\n",
    "    n_unique = column.value_counts()\n",
    "    return n_unique"
   ]
  },
  {
   "cell_type": "code",
   "execution_count": null,
   "id": "b2f6c6f5",
   "metadata": {},
   "outputs": [],
   "source": [
    "# testing function\n",
    "filtered_2 = filter_dataset(['King'],jeopardy.question,jeopardy)\n",
    "count_unique(filtered_2['answer'])"
   ]
  },
  {
   "cell_type": "code",
   "execution_count": null,
   "id": "734274c8",
   "metadata": {},
   "outputs": [],
   "source": [
    "# investigating how questions changed over time - comparing the usage of word 'computer' in the 90s and 00s\n",
    "jeopardy['air_date'] =pd.to_datetime(jeopardy['air_date'])\n",
    "print('In the 90s:', jeopardy[(jeopardy['question'].str.contains('computer', flags=re.IGNORECASE)) & (jeopardy['air_date']>'1990-01-01') & (jeopardy['air_date']<'2000-01-01')].question.count())\n",
    "print('In the 00s:', jeopardy[(jeopardy['question'].str.contains('computer', flags=re.IGNORECASE)) & (jeopardy['air_date']>'2000-01-01') & (jeopardy['air_date']<'2010-01-01')].question.count())"
   ]
  },
  {
   "cell_type": "code",
   "execution_count": null,
   "id": "5b684f98",
   "metadata": {},
   "outputs": [],
   "source": [
    "# quiz function that asks questions and valuates answers\n",
    "def quiz():\n",
    "    i = 0\n",
    "    correct_answers = 0\n",
    "    while i < 5:\n",
    "        question = jeopardy[['question', 'answer']].sample()\n",
    "        print(question['question'].item())\n",
    "        # print(question['answer'].item())\n",
    "        my_answer = input('Write your answer:')\n",
    "        if my_answer.lower() == question['answer'].item().lower():\n",
    "            correct_answers += 1\n",
    "            print('Correct answer. You get a point!')\n",
    "        else:\n",
    "            print(f'Wrong answer. The correct answer was \"{question.answer.item()}\".')\n",
    "        i += 1\n",
    "    return f'Your score is {correct_answers} out of {i}'"
   ]
  },
  {
   "cell_type": "code",
   "execution_count": null,
   "id": "0cd1b48f",
   "metadata": {},
   "outputs": [],
   "source": [
    "# quiz function test\n",
    "print(quiz())"
   ]
  },
  {
   "cell_type": "code",
   "execution_count": null,
   "id": "aa196112",
   "metadata": {},
   "outputs": [],
   "source": []
  }
 ],
 "metadata": {
  "kernelspec": {
   "display_name": "Python 3 (ipykernel)",
   "language": "python",
   "name": "python3"
  },
  "language_info": {
   "codemirror_mode": {
    "name": "ipython",
    "version": 3
   },
   "file_extension": ".py",
   "mimetype": "text/x-python",
   "name": "python",
   "nbconvert_exporter": "python",
   "pygments_lexer": "ipython3",
   "version": "3.9.13"
  }
 },
 "nbformat": 4,
 "nbformat_minor": 5
}
